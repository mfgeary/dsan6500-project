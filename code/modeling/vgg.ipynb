{
 "cells": [
  {
   "cell_type": "markdown",
   "metadata": {},
   "source": [
    "# Load libraries"
   ]
  },
  {
   "cell_type": "code",
   "execution_count": 1,
   "metadata": {},
   "outputs": [],
   "source": [
    "import random\n",
    "import torch\n",
    "import torch.nn as nn\n",
    "import torch.optim as optim\n",
    "import torch.nn.functional as F\n",
    "import numpy as np\n",
    "import matplotlib.pyplot as plt\n",
    "import pandas as pd\n",
    "from tqdm import tqdm\n",
    "import math\n",
    "import os\n",
    "\n",
    "device = \"cpu\"\n",
    "if torch.cuda.is_available():\n",
    "    device = \"cuda\"\n",
    "elif torch.backends.mps.is_available():\n",
    "    device = \"mps\"\n",
    "\n",
    "random_seed = 1989\n",
    "random.seed(random_seed)\n",
    "np.random.seed(random_seed)\n",
    "torch.manual_seed(random_seed)\n",
    "if device == \"cuda\":\n",
    "    torch.cuda.manual_seed(random_seed)\n",
    "    torch.backends.cudnn.deterministic = True\n",
    "    torch.backends.cudnn.benchmark = False\n",
    "elif device == \"mps\":\n",
    "    torch.mps.manual_seed(random_seed)\n",
    "    torch.backends.mps.deterministic = True\n",
    "    torch.backends.mps.benchmark = False"
   ]
  },
  {
   "cell_type": "markdown",
   "metadata": {},
   "source": [
    "# Load the data"
   ]
  },
  {
   "cell_type": "code",
   "execution_count": 2,
   "metadata": {},
   "outputs": [],
   "source": [
    "# Read in the data\n",
    "train_label = pd.read_csv(\"../../data/train_label_coordinates_preprocessed.csv\")\n",
    "labels = train_label[\"condition\"]\n",
    "# Convert labels to integers\n",
    "label_map = {\n",
    "    \"Spinal Canal Stenosis\": 0,\n",
    "    \"Right Neural Foraminal Narrowing\": 1,\n",
    "    \"Left Neural Foraminal Narrowing\": 2,\n",
    "    \"Right Subarticular Stenosis\": 3,\n",
    "    \"Left Subarticular Stenosis\": 4\n",
    "}\n",
    "labels = labels.map(label_map)\n",
    "\n",
    "path_to_image = train_label[\"preprocessed_file_path\"]\n",
    "\n",
    "# Create data loader\n",
    "from torch.utils.data import Dataset, DataLoader\n",
    "from torchvision import transforms, models\n",
    "from PIL import Image\n",
    "\n",
    "class ImageDataset(Dataset):\n",
    "    def __init__(self, path_to_image, labels, transform=None):\n",
    "        self.path_to_image = path_to_image\n",
    "        self.labels = labels\n",
    "        self.transform = transform\n",
    "\n",
    "    def __len__(self):\n",
    "        return len(self.path_to_image)\n",
    "\n",
    "    def __getitem__(self, idx):\n",
    "        path_starter = \"../../data/\"\n",
    "        image = Image.open(path_starter + self.path_to_image[idx])\n",
    "        label = self.labels[idx]\n",
    "        if self.transform:\n",
    "            image = self.transform(image)\n",
    "        return image, label\n",
    "    \n",
    "transform = transforms.Compose([\n",
    "    transforms.Resize((224, 224)),\n",
    "    # convert from grayscale to RGB\n",
    "    transforms.Lambda(lambda x: x.convert(\"RGB\")),\n",
    "    transforms.ToTensor(),\n",
    "    transforms.Normalize(mean=[0.485, 0.456, 0.406], std=[0.229, 0.224, 0.225])\n",
    "])\n",
    "\n",
    "dataset = ImageDataset(path_to_image, labels, transform)"
   ]
  },
  {
   "cell_type": "code",
   "execution_count": 3,
   "metadata": {},
   "outputs": [],
   "source": [
    "batch_size = 64\n",
    "\n",
    "# Split the data into training, validation, and test sets\n",
    "# with a balance of the labels. 70-10-20 split\n",
    "from sklearn.model_selection import train_test_split\n",
    "\n",
    "train_idx, test_idx = train_test_split(range(len(labels)), test_size=0.2, stratify=labels)\n",
    "train_idx, val_idx = train_test_split(train_idx, test_size=0.125, stratify=labels[train_idx])\n",
    "\n",
    "train_sampler = torch.utils.data.SubsetRandomSampler(train_idx)\n",
    "val_sampler = torch.utils.data.SubsetRandomSampler(val_idx)\n",
    "test_sampler = torch.utils.data.SubsetRandomSampler(test_idx)\n",
    "\n",
    "train_loader = DataLoader(dataset, batch_size=batch_size, sampler=train_sampler)\n",
    "val_loader = DataLoader(dataset, batch_size=batch_size, sampler=val_sampler)\n",
    "test_loader = DataLoader(dataset, batch_size=batch_size, sampler=test_sampler)"
   ]
  },
  {
   "cell_type": "code",
   "execution_count": null,
   "metadata": {},
   "outputs": [],
   "source": []
  },
  {
   "cell_type": "code",
   "execution_count": 22,
   "metadata": {},
   "outputs": [],
   "source": [
    "# Add data set name to train label\n",
    "train_label[\"dataset\"] = \"train\"\n",
    "train_label.loc[val_idx, \"dataset\"] = \"val\"\n",
    "train_label.loc[test_idx, \"dataset\"] = \"test\"\n",
    "\n",
    "# Save the train label\n",
    "train_label.to_csv(\"../../data/train_label_coordinates_preprocessed_split.csv\", index=False)"
   ]
  },
  {
   "cell_type": "markdown",
   "metadata": {},
   "source": [
    "# Define the model"
   ]
  },
  {
   "cell_type": "code",
   "execution_count": 4,
   "metadata": {},
   "outputs": [],
   "source": [
    "# Define the model\n",
    "model = models.vgg11(weights=models.VGG11_Weights.IMAGENET1K_V1)\n",
    "model.classifier[6] = nn.Linear(4096, 5)\n",
    "model = model.to(device)"
   ]
  },
  {
   "cell_type": "code",
   "execution_count": 5,
   "metadata": {},
   "outputs": [
    {
     "name": "stdout",
     "output_type": "stream",
     "text": [
      "The model has 128,786,821 trainable parameters\n"
     ]
    }
   ],
   "source": [
    "def count_parameters(model):\n",
    "    return sum(p.numel() for p in model.parameters() if p.requires_grad)\n",
    "\n",
    "print(f'The model has {count_parameters(model):,} trainable parameters')"
   ]
  },
  {
   "cell_type": "code",
   "execution_count": 6,
   "metadata": {},
   "outputs": [],
   "source": [
    "# Define the loss function and optimizer\n",
    "loss = nn.CrossEntropyLoss()\n",
    "optimizer = optim.Adam(model.parameters(), lr=0.001)"
   ]
  },
  {
   "cell_type": "markdown",
   "metadata": {},
   "source": [
    "# Set up model training and evaluation"
   ]
  },
  {
   "cell_type": "code",
   "execution_count": 19,
   "metadata": {},
   "outputs": [],
   "source": [
    "from sklearn import metrics as sklearn_metrics\n",
    "\n",
    "def train(model, loader, loss_fn, optimizer, device):\n",
    "    model.train()\n",
    "    running_loss = 0.0\n",
    "    for inputs, labels in tqdm(loader, \"Training\"):\n",
    "        inputs, labels = inputs.to(device), labels.to(device)\n",
    "        \n",
    "        optimizer.zero_grad()\n",
    "        outputs = model(inputs)\n",
    "        batch_loss = loss_fn(outputs, labels)\n",
    "        batch_loss.backward()\n",
    "        optimizer.step()\n",
    "\n",
    "        running_loss += batch_loss.item() * inputs.size(0)\n",
    "\n",
    "    epoch_loss = running_loss / len(loader.dataset)\n",
    "\n",
    "    return epoch_loss\n",
    "\n",
    "def get_metrics(labels, predictions, probs):\n",
    "    metrics = {\n",
    "        \"Accuracy\": sklearn_metrics.accuracy_score(labels, predictions),\n",
    "        \"Top-2 Accuracy\": sklearn_metrics.top_k_accuracy_score(labels, probs, k=2),\n",
    "        \"Top-3 Accuracy\": sklearn_metrics.top_k_accuracy_score(labels, probs, k=3),\n",
    "        \"Macro Recall\": sklearn_metrics.recall_score(labels, predictions, average='macro'),\n",
    "        \"Weighted Recall\": sklearn_metrics.recall_score(labels, predictions, average='weighted'),\n",
    "        \"Macro F1\": sklearn_metrics.f1_score(labels, predictions, average='macro'),\n",
    "        \"Weighted F1\": sklearn_metrics.f1_score(labels, predictions, average='weighted'),\n",
    "        \"Weighted AUC Score\": sklearn_metrics.roc_auc_score(labels, probs, average='weighted', multi_class='ovr'),\n",
    "    }\n",
    "    return metrics\n",
    "\n",
    "\n",
    "def evaluate(model, loader, loss_fn, device):\n",
    "    model.eval()\n",
    "    running_loss = 0.0\n",
    "    correct_predictions = 0\n",
    "    total_predictions = 0\n",
    "    all_predictions = []\n",
    "    all_labels = []\n",
    "    all_probs = []\n",
    "    with torch.no_grad():\n",
    "        for inputs, labels in tqdm(loader, \"Evaluating\"):\n",
    "            inputs, labels = inputs.to(device), labels.to(device)\n",
    "            outputs = model(inputs)\n",
    "            batch_loss = loss_fn(outputs, labels)\n",
    "            \n",
    "            running_loss += batch_loss.item() * inputs.size(0)\n",
    "            _, predictions = torch.max(outputs, 1)\n",
    "            total_predictions += labels.size(0)\n",
    "            correct_predictions += (predictions == labels).sum().item()\n",
    "\n",
    "            all_labels.extend(labels.cpu().numpy())\n",
    "            all_predictions.extend(predictions.cpu().numpy())\n",
    "            all_probs.extend(torch.nn.functional.softmax(outputs, dim=1).cpu().numpy())\n",
    "\n",
    "    epoch_loss = running_loss / len(loader.dataset)\n",
    "\n",
    "    metrics = get_metrics(all_labels, all_predictions, all_probs)\n",
    "    accuracy = correct_predictions / total_predictions * 100\n",
    "\n",
    "    return epoch_loss, accuracy, metrics"
   ]
  },
  {
   "cell_type": "markdown",
   "metadata": {},
   "source": [
    "# Prepare early stopping"
   ]
  },
  {
   "cell_type": "code",
   "execution_count": 8,
   "metadata": {},
   "outputs": [],
   "source": [
    "class EarlyStopping():\n",
    "    def __init__(self, patience = 2, verbose = False, delta = 0):\n",
    "        self.patience = patience\n",
    "        self.verbose = verbose\n",
    "        self.counter = 0\n",
    "        self.best_score = None\n",
    "        self.early_stop = False\n",
    "        self.best_loss = None\n",
    "        self.delta = delta\n",
    "\n",
    "    def __call__(self, val_loss, model):\n",
    "        score = -val_loss\n",
    "\n",
    "        if self.best_score is None:\n",
    "            self.best_score = score\n",
    "            self.save_checkpoint(val_loss, model)\n",
    "        elif score < self.best_score + self.delta:\n",
    "            self.counter += 1\n",
    "            print(f'EarlyStopping counter: {self.counter} out of {self.patience}')\n",
    "            if self.counter >= self.patience:\n",
    "                self.early_stop = True\n",
    "        else:\n",
    "            self.best_score = score\n",
    "            self.save_checkpoint(val_loss, model)\n",
    "            self.counter = 0\n",
    "\n",
    "    def save_checkpoint(self, val_loss, model):\n",
    "        if self.verbose:\n",
    "            if self.best_loss is not None:\n",
    "                print(f'Validation loss decreased ({self.best_loss:.6f} --> {val_loss:.6f}).  Saving model ...')\n",
    "            else:\n",
    "                print(f'Saving model with validation loss: {val_loss:.6f}')\n",
    "\n",
    "        self.best_loss = val_loss\n",
    "        torch.save(model.state_dict(), 'best_model.pt')"
   ]
  },
  {
   "cell_type": "markdown",
   "metadata": {},
   "source": [
    "# Find best learning rate"
   ]
  },
  {
   "cell_type": "code",
   "execution_count": 9,
   "metadata": {},
   "outputs": [],
   "source": [
    "def save_model(m, p):\n",
    "  torch.save(m.state_dict(), p)\n",
    "def load_model(m, p):\n",
    "  m.load_state_dict(torch.load(p))\n",
    "def get_optimizer(model, lr = 0.01, wd = 0.0):\n",
    "    parameters = filter(lambda p: p.requires_grad, model.parameters())\n",
    "    optim = torch.optim.Adam(parameters, lr=lr, weight_decay=wd)\n",
    "    return optim"
   ]
  },
  {
   "cell_type": "code",
   "execution_count": 10,
   "metadata": {},
   "outputs": [],
   "source": [
    "def LR_range_finder(model, train_dl, lr_low=1e-5, lr_high=1, epochs=1, beta=0.9):\n",
    "  losses = []\n",
    "  # Model save path\n",
    "  p = \"mode_tmp.pth\"\n",
    "  save_model(model, str(p))\n",
    "  num = len(train_dl)-1\n",
    "  mult = (lr_high / lr_low) ** (1.0/num)\n",
    "  lr = lr_low\n",
    "  avg_loss = 0.\n",
    "  best_loss = 0.\n",
    "  batch_num = 0\n",
    "  log_lrs = []\n",
    "  lrs = []\n",
    "\n",
    "  model.train()\n",
    "  for i in range(epochs):\n",
    "    for x,y in train_dl:\n",
    "      batch_num +=1\n",
    "      optim = get_optimizer(model, lr=lr)\n",
    "      x = x.to(device)\n",
    "      y = y.to(device) \n",
    "      out = model(x)\n",
    "      criterion = nn.CrossEntropyLoss()\n",
    "      loss = criterion(out, y)\n",
    "\n",
    "      #Compute the smoothed loss\n",
    "      avg_loss = beta * avg_loss + (1-beta) *loss.item()\n",
    "      smoothed_loss = avg_loss / (1 - beta**batch_num)\n",
    "\n",
    "      #Stop if the loss is exploding\n",
    "      if batch_num > 1 and smoothed_loss > 4 * best_loss:\n",
    "        return log_lrs, losses\n",
    "\n",
    "      #Record the best loss\n",
    "      if smoothed_loss < best_loss or batch_num==1:\n",
    "        best_loss = smoothed_loss\n",
    "      #Store the values\n",
    "      losses.append(smoothed_loss)\n",
    "      log_lrs.append(math.log10(lr))\n",
    "      lrs.append(lr)\n",
    "\n",
    "      optim.zero_grad()\n",
    "      loss.backward()\n",
    "      optim.step()\n",
    "      #Update the lr for the next step\n",
    "      lr *= mult\n",
    "  load_model(model, str(p))\n",
    "\n",
    "  return log_lrs, losses, lrs"
   ]
  },
  {
   "cell_type": "code",
   "execution_count": 11,
   "metadata": {},
   "outputs": [],
   "source": [
    "out = LR_range_finder(model, train_loader, lr_low=1e-5, lr_high=1, epochs=1, beta=0.9)"
   ]
  },
  {
   "cell_type": "code",
   "execution_count": 12,
   "metadata": {},
   "outputs": [
    {
     "name": "stdout",
     "output_type": "stream",
     "text": [
      "Loss: 0.35001324959683633, Learning Rate: 0.00012853534169081238\n",
      "Loss: 0.35709883467575726, Learning Rate: 7.32253833760457e-05\n",
      "Loss: 0.35819619787674073, Learning Rate: 0.00012578361153255457\n",
      "Loss: 0.35949228499925845, Learning Rate: 0.0001313472706203696\n",
      "Loss: 0.36073154214307807, Learning Rate: 7.482731301799833e-05\n"
     ]
    }
   ],
   "source": [
    "# get number of items in tuple out\n",
    "losses = out[1]\n",
    "log_lrs = out[0]\n",
    "\n",
    "# Get top 5 best losses, and corresponding learning rates\n",
    "# convert log learning rates to learning rates\n",
    "lrs = [10 ** x for x in log_lrs]\n",
    "# get top 5 best losses\n",
    "top_5_losses = sorted(losses)[:5]\n",
    "# get corresponding learning rates\n",
    "top_5_lrs = [lrs[losses.index(l)] for l in top_5_losses]\n",
    "\n",
    "for i in range(5):\n",
    "    print(f\"Loss: {top_5_losses[i]}, Learning Rate: {top_5_lrs[i]}\")"
   ]
  },
  {
   "cell_type": "code",
   "execution_count": 13,
   "metadata": {},
   "outputs": [
    {
     "data": {
      "image/png": "[encoded data removed]",
      "text/plain": [
       "<Figure size 640x480 with 1 Axes>"
      ]
     },
     "metadata": {},
     "output_type": "display_data"
    },
    {
     "data": {
      "image/png": "[encoded data removed]",
      "text/plain": [
       "<Figure size 640x480 with 1 Axes>"
      ]
     },
     "metadata": {},
     "output_type": "display_data"
    }
   ],
   "source": [
    "# Plot the learning rate range test\n",
    "plt.plot(log_lrs, losses)\n",
    "plt.xlabel(\"Log Learning Rate\")\n",
    "plt.ylabel(\"Loss\")\n",
    "plt.show()\n",
    "\n",
    "# Plot the learning rate range test\n",
    "plt.plot(lrs, losses)\n",
    "plt.xlabel(\"Learning Rate\")\n",
    "plt.ylabel(\"Loss\")\n",
    "plt.show()"
   ]
  },
  {
   "cell_type": "markdown",
   "metadata": {},
   "source": [
    "# Define model and train"
   ]
  },
  {
   "cell_type": "code",
   "execution_count": 14,
   "metadata": {},
   "outputs": [],
   "source": [
    "# Define the model\n",
    "model = models.vgg11(weights=models.VGG11_Weights.IMAGENET1K_V1)\n",
    "model.classifier[6] = nn.Linear(model.classifier[6].in_features, 5)\n",
    "model = model.to(device)"
   ]
  },
  {
   "cell_type": "code",
   "execution_count": 15,
   "metadata": {},
   "outputs": [],
   "source": [
    "loss = nn.CrossEntropyLoss()\n",
    "optimizer = optim.Adam(model.parameters(), lr=0.0001)"
   ]
  },
  {
   "cell_type": "code",
   "execution_count": 16,
   "metadata": {},
   "outputs": [
    {
     "name": "stderr",
     "output_type": "stream",
     "text": [
      "Training: 100%|██████████| 533/533 [08:00<00:00,  1.11it/s]\n",
      "Evaluating: 100%|██████████| 77/77 [00:21<00:00,  3.57it/s]\n",
      "/Users/mariongeary/anaconda3/envs/project-6500/lib/python3.10/site-packages/sklearn/metrics/_ranking.py:1969: UndefinedMetricWarning: 'k' (5) greater than or equal to 'n_classes' (5) will result in a perfect score and is therefore meaningless.\n",
      "  warnings.warn(\n"
     ]
    },
    {
     "name": "stdout",
     "output_type": "stream",
     "text": [
      "Epoch 1/10, Train Loss: 0.1751, Val Loss: 0.0174, Val Accuracy: 91.0062\n",
      "Saving model with validation loss: 0.017429\n"
     ]
    },
    {
     "name": "stderr",
     "output_type": "stream",
     "text": [
      "Training: 100%|██████████| 533/533 [07:57<00:00,  1.12it/s]\n",
      "Evaluating: 100%|██████████| 77/77 [00:21<00:00,  3.57it/s]\n",
      "/Users/mariongeary/anaconda3/envs/project-6500/lib/python3.10/site-packages/sklearn/metrics/_ranking.py:1969: UndefinedMetricWarning: 'k' (5) greater than or equal to 'n_classes' (5) will result in a perfect score and is therefore meaningless.\n",
      "  warnings.warn(\n"
     ]
    },
    {
     "name": "stdout",
     "output_type": "stream",
     "text": [
      "Epoch 2/10, Train Loss: 0.1028, Val Loss: 0.0147, Val Accuracy: 92.7515\n",
      "Validation loss decreased (0.017429 --> 0.014664).  Saving model ...\n"
     ]
    },
    {
     "name": "stderr",
     "output_type": "stream",
     "text": [
      "Training: 100%|██████████| 533/533 [08:01<00:00,  1.11it/s]\n",
      "Evaluating: 100%|██████████| 77/77 [00:21<00:00,  3.62it/s]\n",
      "/Users/mariongeary/anaconda3/envs/project-6500/lib/python3.10/site-packages/sklearn/metrics/_ranking.py:1969: UndefinedMetricWarning: 'k' (5) greater than or equal to 'n_classes' (5) will result in a perfect score and is therefore meaningless.\n",
      "  warnings.warn(\n"
     ]
    },
    {
     "name": "stdout",
     "output_type": "stream",
     "text": [
      "Epoch 3/10, Train Loss: 0.0724, Val Loss: 0.0144, Val Accuracy: 93.2649\n",
      "Validation loss decreased (0.014664 --> 0.014392).  Saving model ...\n"
     ]
    },
    {
     "name": "stderr",
     "output_type": "stream",
     "text": [
      "Training: 100%|██████████| 533/533 [08:00<00:00,  1.11it/s]\n",
      "Evaluating: 100%|██████████| 77/77 [00:21<00:00,  3.63it/s]\n",
      "/Users/mariongeary/anaconda3/envs/project-6500/lib/python3.10/site-packages/sklearn/metrics/_ranking.py:1969: UndefinedMetricWarning: 'k' (5) greater than or equal to 'n_classes' (5) will result in a perfect score and is therefore meaningless.\n",
      "  warnings.warn(\n"
     ]
    },
    {
     "name": "stdout",
     "output_type": "stream",
     "text": [
      "Epoch 4/10, Train Loss: 0.0492, Val Loss: 0.0162, Val Accuracy: 93.6756\n",
      "EarlyStopping counter: 1 out of 2\n"
     ]
    },
    {
     "name": "stderr",
     "output_type": "stream",
     "text": [
      "Training: 100%|██████████| 533/533 [07:59<00:00,  1.11it/s]\n",
      "Evaluating: 100%|██████████| 77/77 [00:21<00:00,  3.64it/s]"
     ]
    },
    {
     "name": "stdout",
     "output_type": "stream",
     "text": [
      "Epoch 5/10, Train Loss: 0.0318, Val Loss: 0.0175, Val Accuracy: 93.5934\n",
      "EarlyStopping counter: 2 out of 2\n",
      "Early stopping\n"
     ]
    },
    {
     "name": "stderr",
     "output_type": "stream",
     "text": [
      "\n",
      "/Users/mariongeary/anaconda3/envs/project-6500/lib/python3.10/site-packages/sklearn/metrics/_ranking.py:1969: UndefinedMetricWarning: 'k' (5) greater than or equal to 'n_classes' (5) will result in a perfect score and is therefore meaningless.\n",
      "  warnings.warn(\n"
     ]
    }
   ],
   "source": [
    "num_epochs = 10\n",
    "patience = 2\n",
    "early_stopping = EarlyStopping(patience = patience, verbose = True)\n",
    "\n",
    "train_losses = []\n",
    "val_losses = []\n",
    "val_accuracies = []\n",
    "metrics_list = []\n",
    "\n",
    "for epoch in range(num_epochs):\n",
    "    train_loss = train(model, train_loader, loss, optimizer, device)\n",
    "    val_loss, val_accuracy, metrics = evaluate(model, val_loader, loss, device)\n",
    "    train_losses.append(train_loss)\n",
    "    val_losses.append(val_loss)\n",
    "    val_accuracies.append(val_accuracy)\n",
    "    metrics_list.append(metrics)\n",
    "    print(f'Epoch {epoch + 1}/{num_epochs}, Train Loss: {train_loss:.4f}, Val Loss: {val_loss:.4f}, Val Accuracy: {val_accuracy:.4f}')\n",
    "    early_stopping(val_loss, model)\n",
    "    if early_stopping.early_stop:\n",
    "        print('Early stopping')\n",
    "        break"
   ]
  },
  {
   "cell_type": "code",
   "execution_count": 20,
   "metadata": {},
   "outputs": [
    {
     "name": "stderr",
     "output_type": "stream",
     "text": [
      "Evaluating: 100%|██████████| 153/153 [00:45<00:00,  3.33it/s]"
     ]
    },
    {
     "name": "stdout",
     "output_type": "stream",
     "text": [
      "Test Loss: 0.0267, Test Accuracy: 93.3361\n",
      "{'Accuracy': 0.9333607146524284, 'Top-2 Accuracy': 0.9993839203203614, 'Top-3 Accuracy': 1.0, 'Macro Recall': 0.9341623056546154, 'Weighted Recall': 0.9333607146524284, 'Macro F1': 0.934215035831706, 'Weighted F1': 0.9334072535318496, 'Weighted AUC Score': 0.9931841278328521}\n"
     ]
    },
    {
     "name": "stderr",
     "output_type": "stream",
     "text": [
      "\n"
     ]
    }
   ],
   "source": [
    "# evaluate on test set\n",
    "model.load_state_dict(torch.load('vgg_0001.pt'))\n",
    "\n",
    "test_loss, test_accuracy, test_metrics = evaluate(model, test_loader, loss, device)\n",
    "print(f'Test Loss: {test_loss:.4f}, Test Accuracy: {test_accuracy:.4f}')\n",
    "print(test_metrics)"
   ]
  },
  {
   "cell_type": "code",
   "execution_count": 21,
   "metadata": {},
   "outputs": [
    {
     "data": {
      "image/png": "[encoded data removed]",
      "text/plain": [
       "<Figure size 640x480 with 1 Axes>"
      ]
     },
     "metadata": {},
     "output_type": "display_data"
    },
    {
     "data": {
      "image/png": "[encoded data removed]",
      "text/plain": [
       "<Figure size 640x480 with 1 Axes>"
      ]
     },
     "metadata": {},
     "output_type": "display_data"
    }
   ],
   "source": [
    "# Plot the training and validation losses\n",
    "import matplotlib.pyplot as plt\n",
    "\n",
    "plt.plot(train_losses, label='Train Loss')\n",
    "plt.plot(val_losses, label='Validation Loss')\n",
    "plt.xlabel('Epoch')\n",
    "plt.ylabel('Loss')\n",
    "plt.legend()\n",
    "plt.savefig('vgg11_loss.png')\n",
    "plt.show()\n",
    "\n",
    "# Plot the validation accuracy\n",
    "plt.plot(val_accuracies, label='Validation Accuracy')\n",
    "plt.xlabel('Epoch')\n",
    "plt.ylabel('Accuracy')\n",
    "plt.legend()\n",
    "plt.savefig('vgg11_val_accuracy.png')\n",
    "plt.show()"
   ]
  }
 ],
 "metadata": {
  "kernelspec": {
   "display_name": "project-6500",
   "language": "python",
   "name": "python3"
  },
  "language_info": {
   "codemirror_mode": {
    "name": "ipython",
    "version": 3
   },
   "file_extension": ".py",
   "mimetype": "text/x-python",
   "name": "python",
   "nbconvert_exporter": "python",
   "pygments_lexer": "ipython3",
   "version": "3.10.13"
  }
 },
 "nbformat": 4,
 "nbformat_minor": 2
}
